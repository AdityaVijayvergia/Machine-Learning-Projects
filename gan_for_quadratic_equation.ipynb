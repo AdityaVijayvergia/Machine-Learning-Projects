{
  "nbformat": 4,
  "nbformat_minor": 0,
  "metadata": {
    "colab": {
      "name": "gan for quadratic equation.ipynb",
      "version": "0.3.2",
      "provenance": [],
      "collapsed_sections": [],
      "include_colab_link": true
    },
    "kernelspec": {
      "name": "python3",
      "display_name": "Python 3"
    },
    "accelerator": "GPU"
  },
  "cells": [
    {
      "cell_type": "markdown",
      "metadata": {
        "id": "view-in-github",
        "colab_type": "text"
      },
      "source": [
        "<a href=\"https://colab.research.google.com/github/AdityaVijayvergia/Machine-Learning-Projects/blob/master/gan_for_quadratic_equation.ipynb\" target=\"_parent\"><img src=\"https://colab.research.google.com/assets/colab-badge.svg\" alt=\"Open In Colab\"/></a>"
      ]
    },
    {
      "metadata": {
        "id": "2NuTqDdL1ikU",
        "colab_type": "code",
        "colab": {}
      },
      "cell_type": "code",
      "source": [
        "import numpy as np"
      ],
      "execution_count": 0,
      "outputs": []
    },
    {
      "metadata": {
        "id": "i_sgGrBt13Td",
        "colab_type": "code",
        "outputId": "69a49f98-227d-42ac-dc3f-c1fdd34c5e3d",
        "colab": {
          "base_uri": "https://localhost:8080/",
          "height": 86
        }
      },
      "cell_type": "code",
      "source": [
        "(np.random.random_sample((20))-0.5)*10"
      ],
      "execution_count": 2,
      "outputs": [
        {
          "output_type": "execute_result",
          "data": {
            "text/plain": [
              "array([ 2.8866457 ,  2.10442355,  0.93047409,  1.87146582,  2.22452613,\n",
              "        0.1355059 , -4.85037623,  0.37567338,  2.08961822,  3.75676744,\n",
              "       -1.38202966, -4.72696677, -3.23968139, -0.80629677, -2.21912158,\n",
              "       -3.44187154,  0.37354729, -4.03869863,  3.03166782,  1.67791332])"
            ]
          },
          "metadata": {
            "tags": []
          },
          "execution_count": 2
        }
      ]
    },
    {
      "metadata": {
        "id": "wwe6zJ1f2CZ0",
        "colab_type": "code",
        "colab": {}
      },
      "cell_type": "code",
      "source": [
        "def fun(x):\n",
        "    return x**2 + 2;\n",
        "\n",
        "def gen_data(n=1000,scale=100):\n",
        "    x=(np.random.random_sample((n))-0.5)*scale\n",
        "    y=np.array([fun(xi) for xi in x])\n",
        "    x = x.astype('float32')\n",
        "    y = y.astype('float32')\n",
        "    data = np.vstack([x,y]).T\n",
        "    return data, x, y\n",
        "\n",
        "def gen_noise(m, n=2):\n",
        "    return np.random.uniform(-1., 1., size=[m, n])"
      ],
      "execution_count": 0,
      "outputs": []
    },
    {
      "metadata": {
        "id": "oPxetPFwdbur",
        "colab_type": "code",
        "colab": {
          "base_uri": "https://localhost:8080/",
          "height": 34
        },
        "outputId": "ff5a1e21-9a35-428f-f72f-e931f06a727f"
      },
      "cell_type": "code",
      "source": [
        "data,_,_ = gen_data()\n",
        "data.shape"
      ],
      "execution_count": 4,
      "outputs": [
        {
          "output_type": "execute_result",
          "data": {
            "text/plain": [
              "(1000, 2)"
            ]
          },
          "metadata": {
            "tags": []
          },
          "execution_count": 4
        }
      ]
    },
    {
      "metadata": {
        "id": "pDE6nEVCYabL",
        "colab_type": "code",
        "colab": {
          "base_uri": "https://localhost:8080/",
          "height": 34
        },
        "outputId": "bb9b9837-bc3d-4ae7-d0b6-20a6bb9d8c9e"
      },
      "cell_type": "code",
      "source": [
        "gen_noise().shape"
      ],
      "execution_count": 5,
      "outputs": [
        {
          "output_type": "execute_result",
          "data": {
            "text/plain": [
              "(1000, 2)"
            ]
          },
          "metadata": {
            "tags": []
          },
          "execution_count": 5
        }
      ]
    },
    {
      "metadata": {
        "id": "9PYwmiw627iX",
        "colab_type": "code",
        "colab": {
          "base_uri": "https://localhost:8080/",
          "height": 52
        },
        "outputId": "8299058b-a88a-4478-e7ad-e31114549b46"
      },
      "cell_type": "code",
      "source": [
        "_, x_train, y_train = gen_data()\n",
        "print(x_train.shape)\n",
        "print(y_train.shape)"
      ],
      "execution_count": 6,
      "outputs": [
        {
          "output_type": "stream",
          "text": [
            "(1000,)\n",
            "(1000,)\n"
          ],
          "name": "stdout"
        }
      ]
    },
    {
      "metadata": {
        "id": "FhT-PFI22-Tq",
        "colab_type": "code",
        "colab": {}
      },
      "cell_type": "code",
      "source": [
        "import matplotlib.pylab as plt"
      ],
      "execution_count": 0,
      "outputs": []
    },
    {
      "metadata": {
        "id": "P3gtYlz63Ta1",
        "colab_type": "code",
        "outputId": "ba9534c3-1f3a-4232-f2b3-31692a0bb933",
        "colab": {
          "base_uri": "https://localhost:8080/",
          "height": 365
        }
      },
      "cell_type": "code",
      "source": [
        "plt.scatter(x_train,y_train)"
      ],
      "execution_count": 8,
      "outputs": [
        {
          "output_type": "execute_result",
          "data": {
            "text/plain": [
              "<matplotlib.collections.PathCollection at 0x7f33bafdfb00>"
            ]
          },
          "metadata": {
            "tags": []
          },
          "execution_count": 8
        },
        {
          "output_type": "display_data",
          "data": {
            "image/png": "[encoded data removed]",
            "text/plain": [
              "<Figure size 576x396 with 1 Axes>"
            ]
          },
          "metadata": {
            "tags": []
          }
        }
      ]
    },
    {
      "metadata": {
        "id": "7-lGVKxX3naQ",
        "colab_type": "code",
        "colab": {}
      },
      "cell_type": "code",
      "source": [
        "import tensorflow as tf "
      ],
      "execution_count": 0,
      "outputs": []
    },
    {
      "metadata": {
        "id": "_h2pfew-bup4",
        "colab_type": "code",
        "colab": {}
      },
      "cell_type": "code",
      "source": [
        "def generator(Z,hsize=[16, 16],reuse=False):\n",
        "    with tf.variable_scope(\"GAN/Generator\",reuse=reuse):\n",
        "        h1 = tf.layers.dense(Z,hsize[0],activation=tf.nn.leaky_relu)\n",
        "        h2 = tf.layers.dense(h1,hsize[1],activation=tf.nn.leaky_relu)\n",
        "        out = tf.layers.dense(h2,2)\n",
        "\n",
        "    return out"
      ],
      "execution_count": 0,
      "outputs": []
    },
    {
      "metadata": {
        "id": "oRziVcFQ7A5V",
        "colab_type": "code",
        "colab": {}
      },
      "cell_type": "code",
      "source": [
        "def discriminator(X,hsize=[16, 16],reuse=False):\n",
        "    with tf.variable_scope(\"GAN/Discriminator\",reuse=reuse):\n",
        "        h1 = tf.layers.dense(X,hsize[0],activation=tf.nn.leaky_relu)\n",
        "        h2 = tf.layers.dense(h1,hsize[1],activation=tf.nn.leaky_relu)\n",
        "        h3 = tf.layers.dense(h2,2)\n",
        "        out = tf.layers.dense(h3,1)\n",
        "\n",
        "    return out, h3"
      ],
      "execution_count": 0,
      "outputs": []
    },
    {
      "metadata": {
        "id": "5Nr0_x5g7XsL",
        "colab_type": "code",
        "colab": {
          "base_uri": "https://localhost:8080/",
          "height": 138
        },
        "outputId": "6c144034-7fbf-4209-dbfd-d3002cdb6446"
      },
      "cell_type": "code",
      "source": [
        "data, _, _ = gen_data()\n",
        "data"
      ],
      "execution_count": 12,
      "outputs": [
        {
          "output_type": "execute_result",
          "data": {
            "text/plain": [
              "array([[  19.999813,  401.9925  ],\n",
              "       [ -35.04758 , 1230.3329  ],\n",
              "       [ -37.434456, 1403.3385  ],\n",
              "       ...,\n",
              "       [ -27.58779 ,  763.0861  ],\n",
              "       [   6.503547,   44.296127],\n",
              "       [  46.014744, 2119.3567  ]], dtype=float32)"
            ]
          },
          "metadata": {
            "tags": []
          },
          "execution_count": 12
        }
      ]
    },
    {
      "metadata": {
        "id": "AMSRRbbS9Q7O",
        "colab_type": "code",
        "colab": {}
      },
      "cell_type": "code",
      "source": [
        "sess = tf.Session()\n",
        "sess.run(tf.global_variables_initializer())"
      ],
      "execution_count": 0,
      "outputs": []
    },
    {
      "metadata": {
        "id": "z27EScC69ylW",
        "colab_type": "code",
        "colab": {
          "base_uri": "https://localhost:8080/",
          "height": 52
        },
        "outputId": "59900431-5e68-4cf4-bb66-16597314a928"
      },
      "cell_type": "code",
      "source": [
        "sess.run(tf.ones_like([[1,2,3],[4,5,6]]))"
      ],
      "execution_count": 14,
      "outputs": [
        {
          "output_type": "execute_result",
          "data": {
            "text/plain": [
              "array([[1, 1, 1],\n",
              "       [1, 1, 1]], dtype=int32)"
            ]
          },
          "metadata": {
            "tags": []
          },
          "execution_count": 14
        }
      ]
    },
    {
      "metadata": {
        "id": "JXB5SFCdxe8w",
        "colab_type": "code",
        "colab": {}
      },
      "cell_type": "code",
      "source": [
        "real_data = tf.placeholder(tf.float32, [None, 2])\n",
        "random_noise = tf.placeholder(tf.float32, [None, 2])"
      ],
      "execution_count": 0,
      "outputs": []
    },
    {
      "metadata": {
        "id": "w2wATzpgzbAG",
        "colab_type": "code",
        "colab": {
          "base_uri": "https://localhost:8080/",
          "height": 141
        },
        "outputId": "4c6567bf-4e68-4b5e-ba5d-069a187bcf5e"
      },
      "cell_type": "code",
      "source": [
        "generated_data = generator(random_noise)"
      ],
      "execution_count": 16,
      "outputs": [
        {
          "output_type": "stream",
          "text": [
            "WARNING:tensorflow:From <ipython-input-10-450e1ad5cd85>:3: dense (from tensorflow.python.layers.core) is deprecated and will be removed in a future version.\n",
            "Instructions for updating:\n",
            "Use keras.layers.dense instead.\n",
            "WARNING:tensorflow:From /usr/local/lib/python3.6/dist-packages/tensorflow/python/framework/op_def_library.py:263: colocate_with (from tensorflow.python.framework.ops) is deprecated and will be removed in a future version.\n",
            "Instructions for updating:\n",
            "Colocations handled automatically by placer.\n"
          ],
          "name": "stdout"
        }
      ]
    },
    {
      "metadata": {
        "id": "egZ0GvDIz4hJ",
        "colab_type": "code",
        "colab": {}
      },
      "cell_type": "code",
      "source": [
        "real_out, real_val = discriminator(real_data)\n",
        "fake_out, fake_val = discriminator(generated_data,reuse=True)"
      ],
      "execution_count": 0,
      "outputs": []
    },
    {
      "metadata": {
        "id": "agTt6OeiZ8cT",
        "colab_type": "code",
        "colab": {
          "base_uri": "https://localhost:8080/",
          "height": 34
        },
        "outputId": "ecb02d4a-0986-49d6-979b-31836789c442"
      },
      "cell_type": "code",
      "source": [
        "data.shape"
      ],
      "execution_count": 18,
      "outputs": [
        {
          "output_type": "execute_result",
          "data": {
            "text/plain": [
              "(1000, 2)"
            ]
          },
          "metadata": {
            "tags": []
          },
          "execution_count": 18
        }
      ]
    },
    {
      "metadata": {
        "id": "X5bWzunHZEvs",
        "colab_type": "code",
        "colab": {}
      },
      "cell_type": "code",
      "source": [
        "d_loss = tf.reduce_mean(\n",
        "    tf.nn.sigmoid_cross_entropy_with_logits(logits = real_out, labels = tf.ones_like(real_out)) + \n",
        "    tf.nn.sigmoid_cross_entropy_with_logits(logits = fake_out, labels = tf.zeros_like(fake_out))\n",
        ")"
      ],
      "execution_count": 0,
      "outputs": []
    },
    {
      "metadata": {
        "id": "HPggNerG52MF",
        "colab_type": "code",
        "colab": {}
      },
      "cell_type": "code",
      "source": [
        "g_loss = tf.reduce_mean(tf.nn.sigmoid_cross_entropy_with_logits(logits = fake_out, labels = tf.ones_like(fake_out)))"
      ],
      "execution_count": 0,
      "outputs": []
    },
    {
      "metadata": {
        "id": "NOqRJOC_6XCq",
        "colab_type": "code",
        "colab": {}
      },
      "cell_type": "code",
      "source": [
        "gen_vars = tf.get_collection(tf.GraphKeys.GLOBAL_VARIABLES, scope='GAN/Generator')\n",
        "dis_vars = tf.get_collection(tf.GraphKeys.GLOBAL_VARIABLES, scope='GAN/Discriminator')"
      ],
      "execution_count": 0,
      "outputs": []
    },
    {
      "metadata": {
        "id": "miRPsIhhJsRO",
        "colab_type": "code",
        "colab": {}
      },
      "cell_type": "code",
      "source": [
        "gen_train_step = tf.train.RMSPropOptimizer(learning_rate=0.001).minimize(g_loss, var_list=gen_vars)\n",
        "dis_train_step = tf.train.RMSPropOptimizer(learning_rate=0.001).minimize(d_loss, var_list=dis_vars)"
      ],
      "execution_count": 0,
      "outputs": []
    },
    {
      "metadata": {
        "id": "HUSy6S7RNKyP",
        "colab_type": "code",
        "colab": {}
      },
      "cell_type": "code",
      "source": [
        "sess = tf.Session()\n",
        "tf.global_variables_initializer().run(session=sess)\n",
        "\n",
        "batch_size = 256\n",
        "nd_steps = 10\n",
        "ng_steps = 10"
      ],
      "execution_count": 0,
      "outputs": []
    },
    {
      "metadata": {
        "id": "-HdTHGg8QBFx",
        "colab_type": "code",
        "colab": {
          "base_uri": "https://localhost:8080/",
          "height": 34
        },
        "outputId": "251077d5-8e64-425f-f8cf-ca7624bcae51"
      },
      "cell_type": "code",
      "source": [
        "x_plot,_,_ = gen_data(n=batch_size)\n",
        "\n",
        "f = open('loss_logs.csv','w')\n",
        "f.write('Iteration,Discriminator Loss,Generator Loss\\n')"
      ],
      "execution_count": 48,
      "outputs": [
        {
          "output_type": "execute_result",
          "data": {
            "text/plain": [
              "44"
            ]
          },
          "metadata": {
            "tags": []
          },
          "execution_count": 48
        }
      ]
    },
    {
      "metadata": {
        "id": "i5XLh5JAKawu",
        "colab_type": "code",
        "colab": {}
      },
      "cell_type": "code",
      "source": [
        "for i in range(10000):\n",
        "    real_data_batch,_,_ = gen_data(n=batch_size)\n",
        "    random_noise_batch = gen_noise(batch_size)\n",
        "    \n",
        "    for _ in range(nd_steps):\n",
        "        _, dloss = sess.run([dis_train_step, d_loss], feed_dict={real_data:real_data_batch, random_noise:random_noise_batch})\n",
        "\n",
        "    rrep_dstep, grep_dstep = sess.run([real_val, fake_val], feed_dict={real_data:real_data_batch, random_noise:random_noise_batch})\n",
        "\n",
        "    for _ in range(ng_steps):\n",
        "        _, gloss = sess.run([gen_train_step, g_loss], feed_dict={random_noise:random_noise_batch})\n",
        "\n",
        "    rrep_gstep, grep_gstep = sess.run([real_val, fake_val], feed_dict={real_data:real_data_batch, random_noise:random_noise_batch})\n",
        "    \n",
        "    if i%1000 == 0:\n",
        "        plt.figure()\n",
        "        g_plot = sess.run(generated_data, feed_dict={random_noise:random_noise_batch})\n",
        "        xax = plt.scatter(x_plot[:,0], x_plot[:,1])\n",
        "        gax = plt.scatter(g_plot[:,0],g_plot[:,1])\n",
        "\n",
        "        plt.legend((xax,gax), (\"Real Data\",\"Generated Data\"))\n",
        "        plt.title('Samples at Iteration %d'%i)\n",
        "        plt.tight_layout()\n",
        "        #plt.savefig('../plots/iterations/iteration_%d.png'%i)\n",
        "        plt.close()\n",
        "\n",
        "        plt.figure()\n",
        "        rrd = plt.scatter(rrep_dstep[:,0], rrep_dstep[:,1], alpha=0.5)\n",
        "        rrg = plt.scatter(rrep_gstep[:,0], rrep_gstep[:,1], alpha=0.5)\n",
        "        grd = plt.scatter(grep_dstep[:,0], grep_dstep[:,1], alpha=0.5)\n",
        "        grg = plt.scatter(grep_gstep[:,0], grep_gstep[:,1], alpha=0.5)\n",
        "\n",
        "\n",
        "        plt.legend((rrd, rrg, grd, grg), (\"Real Data Before G step\",\"Real Data After G step\",\n",
        "                               \"Generated Data Before G step\",\"Generated Data After G step\"))\n",
        "        plt.title('Transformed Features at Iteration %d'%i)\n",
        "        plt.tight_layout()\n",
        "        #plt.savefig('../plots/features/feature_transform_%d.png'%i)\n",
        "        plt.close()\n",
        "\n",
        "        plt.figure()\n",
        "\n",
        "        rrdc = plt.scatter(np.mean(rrep_dstep[:,0]), np.mean(rrep_dstep[:,1]),s=100, alpha=0.5)\n",
        "        rrgc = plt.scatter(np.mean(rrep_gstep[:,0]), np.mean(rrep_gstep[:,1]),s=100, alpha=0.5)\n",
        "        grdc = plt.scatter(np.mean(grep_dstep[:,0]), np.mean(grep_dstep[:,1]),s=100, alpha=0.5)\n",
        "        grgc = plt.scatter(np.mean(grep_gstep[:,0]), np.mean(grep_gstep[:,1]),s=100, alpha=0.5)\n",
        "\n",
        "        plt.legend((rrdc, rrgc, grdc, grgc), (\"Real Data Before G step\",\"Real Data After G step\",\n",
        "                               \"Generated Data Before G step\",\"Generated Data After G step\"))\n",
        "\n",
        "        plt.title('Centroid of Transformed Features at Iteration %d'%i)\n",
        "        plt.tight_layout()\n",
        "        #plt.savefig('../plots/features/feature_transform_centroid_%d.png'%i)\n",
        "        plt.close()\n",
        "\n",
        "f.close()\n",
        "        "
      ],
      "execution_count": 0,
      "outputs": []
    },
    {
      "metadata": {
        "id": "tZ9ml-eeNHz7",
        "colab_type": "code",
        "colab": {
          "base_uri": "https://localhost:8080/",
          "height": 365
        },
        "outputId": "2d12791b-b280-4b0e-ec06-2a09a21c9d5e"
      },
      "cell_type": "code",
      "source": [
        "random_noise_batch = gen_noise(batch_size)\n",
        "plt.figure()\n",
        "g_plot = sess.run(generated_data, feed_dict={random_noise:random_noise_batch})\n",
        "xax = plt.scatter(x_plot[:,0], x_plot[:,1])\n",
        "gax = plt.scatter(g_plot[:,0],g_plot[:,1])\n",
        "plt.legend((xax,gax), (\"Real Data\",\"Generated Data\"))"
      ],
      "execution_count": 70,
      "outputs": [
        {
          "output_type": "execute_result",
          "data": {
            "text/plain": [
              "<matplotlib.legend.Legend at 0x7f3372133470>"
            ]
          },
          "metadata": {
            "tags": []
          },
          "execution_count": 70
        },
        {
          "output_type": "display_data",
          "data": {
            "image/png": "[encoded data removed]",
            "text/plain": [
              "<Figure size 576x396 with 1 Axes>"
            ]
          },
          "metadata": {
            "tags": []
          }
        }
      ]
    },
    {
      "metadata": {
        "id": "bhOpfTV1RPTB",
        "colab_type": "code",
        "colab": {
          "base_uri": "https://localhost:8080/",
          "height": 121
        },
        "outputId": "d6fa5f31-4a0c-4eb3-cf97-8a1a4967b450"
      },
      "cell_type": "code",
      "source": [
        "gen_vars"
      ],
      "execution_count": 73,
      "outputs": [
        {
          "output_type": "execute_result",
          "data": {
            "text/plain": [
              "[<tf.Variable 'GAN/Generator/dense/kernel:0' shape=(2, 16) dtype=float32_ref>,\n",
              " <tf.Variable 'GAN/Generator/dense/bias:0' shape=(16,) dtype=float32_ref>,\n",
              " <tf.Variable 'GAN/Generator/dense_1/kernel:0' shape=(16, 16) dtype=float32_ref>,\n",
              " <tf.Variable 'GAN/Generator/dense_1/bias:0' shape=(16,) dtype=float32_ref>,\n",
              " <tf.Variable 'GAN/Generator/dense_2/kernel:0' shape=(16, 2) dtype=float32_ref>,\n",
              " <tf.Variable 'GAN/Generator/dense_2/bias:0' shape=(2,) dtype=float32_ref>]"
            ]
          },
          "metadata": {
            "tags": []
          },
          "execution_count": 73
        }
      ]
    },
    {
      "metadata": {
        "id": "fjjgkUgPz2gc",
        "colab_type": "code",
        "colab": {}
      },
      "cell_type": "code",
      "source": [
        ""
      ],
      "execution_count": 0,
      "outputs": []
    }
  ]
}